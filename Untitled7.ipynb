{
 "cells": [
  {
   "cell_type": "code",
   "execution_count": 1,
   "metadata": {},
   "outputs": [
    {
     "name": "stdout",
     "output_type": "stream",
     "text": [
      "enter no of minutes20\n",
      "enter no of sms20\n",
      "57.99999999999999\n"
     ]
    }
   ],
   "source": [
    "minutes=int(input('enter no of minutes'))\n",
    "sms=int(input('enter no of sms'))\n",
    "base_charge=50\n",
    "charge1=base_charge*1.16\n",
    "charge2=(base_charge+((minutes-20)*3)+((sms-20)*2))*1.16\n",
    "if minutes==20 and sms==20:\n",
    "     print (charge1)\n",
    "else :\n",
    "    print(charge2)"
   ]
  }
 ],
 "metadata": {
  "kernelspec": {
   "display_name": "Python 3",
   "language": "python",
   "name": "python3"
  },
  "language_info": {
   "codemirror_mode": {
    "name": "ipython",
    "version": 3
   },
   "file_extension": ".py",
   "mimetype": "text/x-python",
   "name": "python",
   "nbconvert_exporter": "python",
   "pygments_lexer": "ipython3",
   "version": "3.7.6"
  }
 },
 "nbformat": 4,
 "nbformat_minor": 4
}
